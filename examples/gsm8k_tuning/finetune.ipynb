{
 "cells": [
  {
   "cell_type": "markdown",
   "metadata": {},
   "source": [
    "## 1. Prepare training data"
   ]
  },
  {
   "cell_type": "code",
   "execution_count": 1,
   "metadata": {},
   "outputs": [],
   "source": [
    "import json\n",
    "import os\n",
    "\n",
    "from tqdm import tqdm\n",
    "\n",
    "from tapeagents.core import TrainingText\n",
    "from math_agent import ActionExecutionFailure, MathAgent, MathTape\n",
    "from tapeagents.llms import LLAMA"
   ]
  },
  {
   "cell_type": "code",
   "execution_count": 2,
   "metadata": {},
   "outputs": [],
   "source": [
    "# We need the agent to cut tapes into training samples\n",
    "agent = MathAgent(\n",
    "    llms={\n",
    "        \"default\": LLAMA(\n",
    "            base_url=\"https://api.together.xyz\",\n",
    "            model_name=\"meta-llama/Meta-Llama-3.1-8B-Instruct-Turbo\",\n",
    "            tokenizer_name=\"meta-llama/Meta-Llama-3.1-8B-Instruct\",\n",
    "        )\n",
    "    }\n",
    ")"
   ]
  },
  {
   "cell_type": "code",
   "execution_count": 6,
   "metadata": {},
   "outputs": [],
   "source": [
    "def get_training_samples_from_tapes(tapes_path: str) -> list[TrainingText]:\n",
    "    \"\"\"\n",
    "    Make training samples from tapes that were solved successfully,\n",
    "    does not contain action execution failures, and do not have repeated steps.\n",
    "    \"\"\"\n",
    "    training_samples: list[TrainingText] = []\n",
    "    failures = 0\n",
    "    not_solved = 0\n",
    "    with_duplicates = 0\n",
    "    tape_files = [os.path.join(tapes_path, f) for f in os.listdir(tapes_path) if f.endswith(\".json\")]\n",
    "    for tape_file in tqdm(tape_files):\n",
    "        with open(tape_file) as f:\n",
    "            tape_dict = json.load(f)\n",
    "        tape = MathTape.model_validate(tape_dict)\n",
    "        step_types = set(type(step) for step in tape)\n",
    "\n",
    "        # detect repeated steps\n",
    "        last_step_view = None\n",
    "        duplicate = False\n",
    "        for step in tape:\n",
    "            view = step.llm_view()\n",
    "            if view == last_step_view:\n",
    "                duplicate = True\n",
    "                break\n",
    "            last_step_view = view\n",
    "        if duplicate:\n",
    "            with_duplicates += 1\n",
    "            continue\n",
    "\n",
    "        if ActionExecutionFailure in step_types:\n",
    "            failures += 1\n",
    "            continue\n",
    "        if not tape.metadata.result[\"solved\"]:\n",
    "            not_solved += 1\n",
    "            continue\n",
    "        for sample in agent.make_training_data(tape):\n",
    "            training_samples.append(sample)\n",
    "    print(f\"Skipped failures: {failures}\")\n",
    "    print(f\"Skipped not solved: {not_solved}\")\n",
    "    print(f\"Skipped with duplicates: {with_duplicates}\")\n",
    "    print(f\"Training samples: {len(training_samples)}\")\n",
    "    return training_samples"
   ]
  },
  {
   "cell_type": "code",
   "execution_count": null,
   "metadata": {},
   "outputs": [],
   "source": [
    "tapes_path = \"gsm8k/tuning/llama31_70b_train_t02/tapes\"\n",
    "training_samples = get_training_samples_from_tapes(tapes_path)"
   ]
  },
  {
   "cell_type": "code",
   "execution_count": null,
   "metadata": {},
   "outputs": [],
   "source": [
    "print(training_samples[0].prompt_str)\n",
    "print(\"=====\")\n",
    "print(training_samples[0].completion_str)"
   ]
  },
  {
   "cell_type": "code",
   "execution_count": null,
   "metadata": {},
   "outputs": [],
   "source": [
    "# We can store the training samples in a file and load them later:\n",
    "\n",
    "# from tapeagents.finetune.data import load_samples, save_samples\n",
    "\n",
    "# train_samples_file = \"/gsm8k/tuning/llama31_70b_train_t02/training_samples_3k.jsonl\"\n",
    "# save_samples(training_samples, train_samples_file)\n",
    "\n",
    "# training_samples = load_samples(train_samples_file)\n",
    "\n",
    "print(len(training_samples))"
   ]
  },
  {
   "cell_type": "markdown",
   "metadata": {},
   "source": [
    "## 2. Finetune Llama model on the training data"
   ]
  },
  {
   "cell_type": "code",
   "execution_count": 9,
   "metadata": {},
   "outputs": [],
   "source": [
    "from tapeagents.finetune.finetune import load_config, run_finetuning_loop"
   ]
  },
  {
   "cell_type": "code",
   "execution_count": null,
   "metadata": {},
   "outputs": [],
   "source": [
    "# Load and inspect lora tuning config for Llama 3.1 8B\n",
    "cfg = load_config(\"llama31_8b\")\n",
    "dict(cfg.finetune)"
   ]
  },
  {
   "cell_type": "code",
   "execution_count": null,
   "metadata": {},
   "outputs": [],
   "source": [
    "run_finetuning_loop(cfg=cfg, training_samples=training_samples)"
   ]
  }
 ],
 "metadata": {
  "kernelspec": {
   "display_name": "tapeagents",
   "language": "python",
   "name": "python3"
  },
  "language_info": {
   "codemirror_mode": {
    "name": "ipython",
    "version": 3
   },
   "file_extension": ".py",
   "mimetype": "text/x-python",
   "name": "python",
   "nbconvert_exporter": "python",
   "pygments_lexer": "ipython3",
   "version": "3.10.14"
  }
 },
 "nbformat": 4,
 "nbformat_minor": 2
}
