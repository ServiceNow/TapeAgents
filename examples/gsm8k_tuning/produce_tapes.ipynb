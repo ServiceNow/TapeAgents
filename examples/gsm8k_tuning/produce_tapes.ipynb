{
 "cells": [
  {
   "cell_type": "code",
   "execution_count": 2,
   "metadata": {},
   "outputs": [],
   "source": [
    "import os\n",
    "\n",
    "import numpy as np\n",
    "from datasets import load_dataset\n",
    "from math_agent import (\n",
    "    MathAgent,\n",
    "    MathEnvironment,\n",
    "    extract_result_value,\n",
    "    save_tape,\n",
    "    solve_task,\n",
    ")\n",
    "from termcolor import colored\n",
    "from tqdm import tqdm\n",
    "\n",
    "from tapeagents.llms import LLAMA"
   ]
  },
  {
   "cell_type": "markdown",
   "metadata": {},
   "source": [
    "## Prepare tasks, env, llm and agent to run on training split"
   ]
  },
  {
   "cell_type": "code",
   "execution_count": null,
   "metadata": {},
   "outputs": [],
   "source": [
    "# Exam the dataset sample\n",
    "dataset = load_dataset(\"openai/gsm8k\", \"main\", split=\"train\")\n",
    "print(dataset[0])"
   ]
  },
  {
   "cell_type": "code",
   "execution_count": 6,
   "metadata": {},
   "outputs": [],
   "source": [
    "dataset = load_dataset(\"openai/gsm8k\", \"main\", split=\"train\")\n",
    "samples = [s for s in dataset]\n",
    "np.random.seed(42)\n",
    "np.random.shuffle(samples)  # type: ignore\n",
    "\n",
    "llm = LLAMA(\n",
    "    base_url=\"https://api.together.xyz\",\n",
    "    model_name=\"meta-llama/Meta-Llama-3.1-70B-Instruct-Turbo\",\n",
    "    tokenizer_name=\"meta-llama/Meta-Llama-3.1-70B-Instruct\",\n",
    "    parameters=dict(temperature=0.2),\n",
    "    use_cache=False,\n",
    ")\n",
    "agent = MathAgent(llms={\"default\": llm})\n",
    "env = MathEnvironment()"
   ]
  },
  {
   "cell_type": "markdown",
   "metadata": {},
   "source": [
    "## Solve tasks"
   ]
  },
  {
   "cell_type": "code",
   "execution_count": null,
   "metadata": {},
   "outputs": [],
   "source": [
    "exp_path = \"gsm8k/tuning/llama31_70b_train\"\n",
    "attempts = 1\n",
    "\n",
    "tapes_dir = os.path.join(exp_path, \"tapes\")\n",
    "os.makedirs(tapes_dir, exist_ok=True)\n",
    "os.environ[\"TAPEAGENTS_SQLITE_DB\"] = os.path.join(exp_path, \"llm_calls.sqlite\")\n",
    "\n",
    "solved = []\n",
    "for i, sample in enumerate(tqdm(samples)):\n",
    "    sample = extract_result_value(sample)\n",
    "    for j in range(attempts):\n",
    "        tape_file = os.path.join(tapes_dir, f\"task{i}_attempt{j+1}.json\")\n",
    "        if os.path.exists(tape_file):\n",
    "            print(f\"Task {i} attempt {j+1} already solved, skipping\")\n",
    "            continue\n",
    "        try:\n",
    "            tape = solve_task(agent, env, sample, tape_file)\n",
    "            solved.append(int(tape.metadata.result[\"solved\"]))\n",
    "            save_tape(tape_file, tape)\n",
    "        except Exception as e:\n",
    "            print(colored(f\"Failed to solve task, attempt {j+1}: {e}\", \"red\"))\n",
    "            solved.append(0)\n",
    "    if i % 10 == 0 and i > 0:\n",
    "        print(f\"{i}: Current accuracy: {np.mean(solved):.3f}, prompt tokens used: {agent.llm.token_count}\")"
   ]
  }
 ],
 "metadata": {
  "kernelspec": {
   "display_name": "tapeagents",
   "language": "python",
   "name": "python3"
  },
  "language_info": {
   "codemirror_mode": {
    "name": "ipython",
    "version": 3
   },
   "file_extension": ".py",
   "mimetype": "text/x-python",
   "name": "python",
   "nbconvert_exporter": "python",
   "pygments_lexer": "ipython3",
   "version": "3.10.14"
  }
 },
 "nbformat": 4,
 "nbformat_minor": 2
}
